{
 "cells": [
  {
   "cell_type": "markdown",
   "metadata": {},
   "source": [
    "# Can We Predict Whether a Recipe Is Vegetarian Based Off of Ratings and Nutrition Values?"
   ]
  },
  {
   "cell_type": "markdown",
   "metadata": {},
   "source": [
    "   Specifically, we want to predict whether a recipe will be vegetarian based off of 5 features: Ratings, Calories, Fat, Protein, and Sodium using a recipe data set from Epicurious in Kaggle. This is a Multivariate Binary Classification Problem. We approach this problem using four popular machine learning algorithms for classification: Logistic Regression, Support Vector Machines, RandomForest, and XGBoosting. We also use a 5-fold Kfold Cross-Validation to compare the accuracy between the algorithms."
   ]
  },
  {
   "cell_type": "code",
   "execution_count": 40,
   "metadata": {},
   "outputs": [],
   "source": [
    "import numpy as np\n",
    "import pandas as pd\n",
    "import matplotlib.pyplot as plt\n",
    "from pandas import read_csv\n",
    "from sklearn.linear_model import LogisticRegression\n",
    "from sklearn.svm import SVC\n",
    "from sklearn.ensemble import RandomForestClassifier\n",
    "from sklearn.model_selection import KFold\n",
    "from sklearn.model_selection import train_test_split\n",
    "import xgboost as gb\n",
    "from xgboost import plot_tree\n",
    "from xgboost import XGBClassifier\n",
    "from xgboost import plot_importance\n",
    "import statsmodels.api as sm\n",
    "\n",
    "from sklearn.tree import export_graphviz\n",
    "import graphviz as gz\n",
    "import os\n",
    "os.environ[\"PATH\"] += os.pathsep + r'C:\\Users\\juvo\\Desktop\\graphviz-2.38\\release\\bin'\n",
    "\n",
    "\n",
    "import seaborn as sns"
   ]
  },
  {
   "cell_type": "markdown",
   "metadata": {},
   "source": [
    "These libraries allows us to do the various algorithms and data visualization for our data analysis."
   ]
  },
  {
   "cell_type": "markdown",
   "metadata": {},
   "source": [
    "# Data Exploration and Cleaning"
   ]
  },
  {
   "cell_type": "markdown",
   "metadata": {},
   "source": [
    "We first want to explore our data set and to clean the data set of outliers and NaN values if there are any."
   ]
  },
  {
   "cell_type": "code",
   "execution_count": 42,
   "metadata": {},
   "outputs": [
    {
     "name": "stdout",
     "output_type": "stream",
     "text": [
      "(20052, 680)\n",
      "                                         title  rating  calories  protein  \\\n",
      "0              Lentil, Apple, and Turkey Wrap    2.500     426.0     30.0   \n",
      "1  Boudin Blanc Terrine with Red Onion Confit    4.375     403.0     18.0   \n",
      "2                Potato and Fennel Soup Hodge    3.750     165.0      6.0   \n",
      "3             Mahi-Mahi in Tomato Olive Sauce    5.000       NaN      NaN   \n",
      "4                    Spinach Noodle Casserole    3.125     547.0     20.0   \n",
      "\n",
      "    fat  sodium  #cakeweek  #wasteless  22-minute meals  3-ingredient recipes  \\\n",
      "0   7.0   559.0        0.0         0.0              0.0                   0.0   \n",
      "1  23.0  1439.0        0.0         0.0              0.0                   0.0   \n",
      "2   7.0   165.0        0.0         0.0              0.0                   0.0   \n",
      "3   NaN     NaN        0.0         0.0              0.0                   0.0   \n",
      "4  32.0   452.0        0.0         0.0              0.0                   0.0   \n",
      "\n",
      "   ...  yellow squash  yogurt  yonkers  yuca  zucchini  cookbooks  leftovers  \\\n",
      "0  ...            0.0     0.0      0.0   0.0       0.0        0.0        0.0   \n",
      "1  ...            0.0     0.0      0.0   0.0       0.0        0.0        0.0   \n",
      "2  ...            0.0     0.0      0.0   0.0       0.0        0.0        0.0   \n",
      "3  ...            0.0     0.0      0.0   0.0       0.0        0.0        0.0   \n",
      "4  ...            0.0     0.0      0.0   0.0       0.0        0.0        0.0   \n",
      "\n",
      "   snack  snack week  turkey  \n",
      "0    0.0         0.0     1.0  \n",
      "1    0.0         0.0     0.0  \n",
      "2    0.0         0.0     0.0  \n",
      "3    0.0         0.0     0.0  \n",
      "4    0.0         0.0     0.0  \n",
      "\n",
      "[5 rows x 680 columns]\n",
      "                                             title  rating  calories  protein  \\\n",
      "20047                              Parmesan Puffs    3.125      28.0      2.0   \n",
      "20048              Artichoke and Parmesan Risotto    4.375     671.0     22.0   \n",
      "20049                       Turkey Cream Puff Pie    4.375     563.0     31.0   \n",
      "20050     Snapper on Angel Hair with Citrus Cream    4.375     631.0     45.0   \n",
      "20051  Baked Ham with Marmalade-Horseradish Glaze    4.375     560.0     73.0   \n",
      "\n",
      "        fat  sodium  #cakeweek  #wasteless  22-minute meals  \\\n",
      "20047   2.0    64.0        0.0         0.0              0.0   \n",
      "20048  28.0   583.0        0.0         0.0              0.0   \n",
      "20049  38.0   652.0        0.0         0.0              0.0   \n",
      "20050  24.0   517.0        0.0         0.0              0.0   \n",
      "20051  10.0  3698.0        0.0         0.0              0.0   \n",
      "\n",
      "       3-ingredient recipes  ...  yellow squash  yogurt  yonkers  yuca  \\\n",
      "20047                   0.0  ...            0.0     0.0      0.0   0.0   \n",
      "20048                   0.0  ...            0.0     0.0      0.0   0.0   \n",
      "20049                   0.0  ...            0.0     0.0      0.0   0.0   \n",
      "20050                   0.0  ...            0.0     0.0      0.0   0.0   \n",
      "20051                   0.0  ...            0.0     0.0      0.0   0.0   \n",
      "\n",
      "       zucchini  cookbooks  leftovers  snack  snack week  turkey  \n",
      "20047       0.0        0.0        0.0    0.0         0.0     0.0  \n",
      "20048       0.0        0.0        0.0    0.0         0.0     0.0  \n",
      "20049       0.0        0.0        0.0    0.0         0.0     1.0  \n",
      "20050       0.0        0.0        0.0    0.0         0.0     0.0  \n",
      "20051       0.0        0.0        0.0    0.0         0.0     0.0  \n",
      "\n",
      "[5 rows x 680 columns]\n"
     ]
    }
   ],
   "source": [
    "recipes = pd.read_csv(\"C:/Users/juvo/Desktop/Projects/RecipeProject/epi_r.csv\") \n",
    "\n",
    "print(recipes.shape) # get information of number of rows and columns\n",
    "print(recipes.head()) # displays the first 5 rows of the data. \n",
    "print(recipes.tail()) # displays the last 5 rows of the data.\n",
    "\n"
   ]
  },
  {
   "cell_type": "markdown",
   "metadata": {},
   "source": [
    "From the exploration, we can see that there are NaN values for calories. Likewise, we can also guess that there will be huge outliers in calories in some dishes that might affect the analysis, and so we want to remove them. (Note an alternate approach could be to fill in the missing NaN values with the average of the other data points)"
   ]
  },
  {
   "cell_type": "code",
   "execution_count": 44,
   "metadata": {},
   "outputs": [],
   "source": [
    "recipes_no_na = recipes.dropna() # drops all rows with NA values \n",
    "\n",
    "recipes_no_outliers = recipes_no_na[recipes_no_na['calories'] < 10000] # removes outliers for 10000"
   ]
  },
  {
   "cell_type": "markdown",
   "metadata": {},
   "source": [
    "Also, we can see that the rating and the nutrition facts are all in the beginning columns. The other columns appear to be mostly ingredient categorical variables so we can remove them. There is one column \"Vegetarian\" that we do want to remain and so we create a new dataframe with the variables we are concerned with."
   ]
  },
  {
   "cell_type": "code",
   "execution_count": 46,
   "metadata": {},
   "outputs": [
    {
     "name": "stdout",
     "output_type": "stream",
     "text": [
      "                                         title  rating  calories  protein  \\\n",
      "0              Lentil, Apple, and Turkey Wrap    2.500     426.0     30.0   \n",
      "1  Boudin Blanc Terrine with Red Onion Confit    4.375     403.0     18.0   \n",
      "2                Potato and Fennel Soup Hodge    3.750     165.0      6.0   \n",
      "4                    Spinach Noodle Casserole    3.125     547.0     20.0   \n",
      "5                               The Best Blts    4.375     948.0     19.0   \n",
      "\n",
      "    fat  sodium  vegetarian  \n",
      "0   7.0   559.0         0.0  \n",
      "1  23.0  1439.0         0.0  \n",
      "2   7.0   165.0         0.0  \n",
      "4  32.0   452.0         1.0  \n",
      "5  79.0  1042.0         0.0  \n"
     ]
    }
   ],
   "source": [
    "recipes_important_variables = recipes_no_outliers.loc[0:, ['title','rating','calories','protein','fat','sodium','vegetarian']] # retains only important variables\n",
    "\n",
    "print(recipes_important_variables.head()) # verifies whether our new dataframe is correct"
   ]
  },
  {
   "cell_type": "markdown",
   "metadata": {},
   "source": [
    "Now we want to split our dataframes into the dependent variable(\"Vegetarian\") and the independent variables/features (Rating, Calories, Protein, Fat, and Sodium) and convert to a form that the algorithms can use."
   ]
  },
  {
   "cell_type": "code",
   "execution_count": 48,
   "metadata": {},
   "outputs": [
    {
     "name": "stdout",
     "output_type": "stream",
     "text": [
      "[[   2.5    426.      30.       7.     559.   ]\n",
      " [   4.375  403.      18.      23.    1439.   ]\n",
      " [   3.75   165.       6.       7.     165.   ]\n",
      " ...\n",
      " [   4.375  563.      31.      38.     652.   ]\n",
      " [   4.375  631.      45.      24.     517.   ]\n",
      " [   4.375  560.      73.      10.    3698.   ]]\n",
      "[0. 0. 0. ... 0. 0. 0.]\n"
     ]
    }
   ],
   "source": [
    "recipes_independent_variables = recipes_important_variables.loc[0:, ['rating','calories','protein','fat','sodium'] ]\n",
    "recipes_dependent_variables = recipes_important_variables.loc[0:, \"vegetarian\" ]\n",
    "\n",
    "recipes_independent_variables = recipes_independent_variables.values #Converts dataframe into a numpy array which the algorithms uses\n",
    "recipes_dependent_variables = recipes_dependent_variables.values #Converts dataframe into a numpy array which the algorithms uses\n",
    "\n",
    "print(recipes_independent_variables)\n",
    "print(recipes_dependent_variables)"
   ]
  },
  {
   "cell_type": "markdown",
   "metadata": {},
   "source": [
    "# Algorithms Prediction Accuracy Comparison"
   ]
  },
  {
   "cell_type": "markdown",
   "metadata": {},
   "source": [
    "First, we want to compare the accuracy of the algorithms to each other by using a kfold-cross validation. We settle with 5, because it's the standard fold that gives sufficient accuracy without too much computational power needed. 5-fold cross validation splits the data into 5 data sets randomly. 4 of them are training sets and are tested against the last (test) set. This process is done 5 times, with each data set becoming a test set only once, and the other 4 becoming training sets.\n",
    "\n",
    "From the training sets, the Algorithms are making a prediction of whether a recipe is vegetarian which is determined by the features sets. Then, the predictions are tested against the test set. "
   ]
  },
  {
   "cell_type": "code",
   "execution_count": 50,
   "metadata": {},
   "outputs": [
    {
     "name": "stdout",
     "output_type": "stream",
     "text": [
      "[0.6513095613758283, 0.6626696118649417, 0.669611864941622, 0.6606691919191919, 0.6625631313131313]\n",
      "[0.6424739665509624, 0.6554118018302304, 0.6418428526349006, 0.6530934343434344, 0.6631944444444444]\n",
      "[0.7462922057431366, 0.7333543704638688, 0.7497633322814768, 0.7626262626262627, 0.7465277777777778]\n",
      "[0.7166298516882297, 0.7150520668980751, 0.7052698011991164, 0.7111742424242424, 0.7095959595959596]\n"
     ]
    }
   ],
   "source": [
    " def get_score(model, X_train, X_test, y_train, y_test): \n",
    "    model.fit(X_train, y_train)\n",
    "    return model.score(X_test, y_test)\n",
    "\n",
    "scores_lr = []\n",
    "scores_svm = []\n",
    "scores_rf = []\n",
    "scores_xg = []\n",
    "\n",
    "kf = KFold(n_splits=5, random_state=123)  #splits the data into 5, and sets a seed for reproducibility\n",
    "\n",
    "for train_index,test_index in kf.split(recipes_independent_variables): #does and shows the 5-fold Cross Validation and appends the accuracy to the score variable arrays aboves           \n",
    "    X_train, X_test, y_train, y_test = recipes_independent_variables[train_index], recipes_independent_variables[test_index], recipes_dependent_variables[train_index], recipes_dependent_variables[test_index]\n",
    "    scores_lr.append(get_score(LogisticRegression(solver=\"lbfgs\", multi_class=\"auto\",max_iter=4000), X_train, X_test, y_train, y_test))\n",
    "    scores_svm.append(get_score(SVC(gamma=\"scale\", probability=True), X_train, X_test, y_train, y_test))\n",
    "    scores_rf.append(get_score(RandomForestClassifier(n_estimators=100), X_train, X_test, y_train,y_test))\n",
    "    scores_xg.append(get_score(XGBClassifier(),X_train, X_test, y_train, y_test))\n",
    "\n",
    "print(scores_lr)\n",
    "print(scores_svm)\n",
    "print(scores_rf)\n",
    "print(scores_xg)\n"
   ]
  },
  {
   "cell_type": "markdown",
   "metadata": {},
   "source": [
    "From the four algorithms, we see that Random Forest is the most accurate, with XGBoosting second, and logistical regression and support vector machines being close in accuracy. This was surprising because XGBoosting and RandomForest are both decision trees, where XGBoosting usually outperforms RandomForest. The reason is probably that the default parameters established in the XGBoosting Algorithm need to be tuned towards the data set. Logistic regression did not perform as well most likely due to one reason being the presense of multicollinearity, or relationships, between the independent variables with each other. For example, it is very likely that there is a positively correlated relationship between calories and ratings. When calories go up in a recipe, most likely so will the rating. Support Vector Machines also did not perform as well due to most likely the default kernel needing to be tuned towards the data set."
   ]
  },
  {
   "cell_type": "markdown",
   "metadata": {},
   "source": [
    "# Logistic Regression Analysis"
   ]
  },
  {
   "cell_type": "code",
   "execution_count": 52,
   "metadata": {},
   "outputs": [
    {
     "name": "stdout",
     "output_type": "stream",
     "text": [
      "[[0.51242849 0.48757151]\n",
      " [0.6214735  0.3785265 ]\n",
      " [0.52913518 0.47086482]\n",
      " ...\n",
      " [0.86734801 0.13265199]\n",
      " [0.93748576 0.06251424]\n",
      " [0.99420783 0.00579217]]\n",
      "[[ 0.13366278  0.0018351  -0.0805458  -0.01168614 -0.0000678 ]]\n",
      "[[1.14300731 1.00183678 0.92261265 0.98838188 0.9999322 ]]\n"
     ]
    },
    {
     "data": {
      "image/png": "[encoded data removed]",
      "text/plain": [
       "<Figure size 432x288 with 5 Axes>"
      ]
     },
     "metadata": {},
     "output_type": "display_data"
    }
   ],
   "source": [
    "def get_predict_proba(model, X_train, X_test, y_train, y_test):  # creates a function to predict probability for each recipe\n",
    "    model.fit(X_train, y_train)\n",
    "    return model.predict_proba(X_test)\n",
    "\n",
    "logistic_regr = LogisticRegression(solver=\"lbfgs\", multi_class=\"auto\",max_iter=4000)\n",
    "\n",
    "log_regpred = get_predict_proba(logistic_regr, X_train, X_test, y_train, y_test) # gets the probability for each recipe to be vegetarian\n",
    "\n",
    "log_reg_coef = logistic_regr.coef_ # shows the coefficients of the logistic regression\n",
    "\n",
    "np.set_printoptions(suppress=True) # turns scientific notation off\n",
    "\n",
    "sns.set(style=\"darkgrid\", color_codes=True)\n",
    "\n",
    "\n",
    "fig, (ax1, ax2, ax3, ax4, ax5) = plt.subplots(ncols=5, sharey=True)\n",
    "sns.regplot(x=recipes_important_variables['rating'], y=recipes_important_variables['vegetarian'], ax=ax1, logistic=True)\n",
    "sns.regplot(x=recipes_important_variables['calories'], y=recipes_important_variables['vegetarian'], ax=ax2, logistic=True)\n",
    "sns.regplot(x=recipes_important_variables['protein'], y=recipes_important_variables['vegetarian'], ax=ax3, logistic=True)\n",
    "sns.regplot(x=recipes_important_variables['fat'], y=recipes_important_variables['vegetarian'], ax=ax4, logistic=True)\n",
    "sns.regplot(x=recipes_important_variables['sodium'], y=recipes_important_variables['vegetarian'], ax=ax5, logistic=True)\n",
    "\n",
    "print(log_regpred)\n",
    "\n",
    "print(log_reg_coef)\n",
    "\n",
    "log_reg_coef_outputeffect = np.exp(log_reg_coef) # Increase in output odd chances for every one unit increase in the independent variable\n",
    "\n",
    "print(log_reg_coef_outputeffect)"
   ]
  },
  {
   "cell_type": "markdown",
   "metadata": {},
   "source": [
    "A major advantage of logistic regression is interpretability. For log_pred, we can see the probabilities assigned to whether or not a recipe is vegetarian. For example, the last recipe has probability [0.99420783, 0.00579217]. This means that according to the logistic regression, there's an approximate 99.4% chance that it's vegetarian, and 0.6% chance that it's not vegetarian because of the recipe's nutrition values and rating. For log_reg_coef, it gives us the coefficients of each independent variable. We look at the first independent variable rating with the coefficient of 0.13366278. For every 13.4% increase in the rating, there's an equivalent 14.3% [1.143] increase in the odds of the recipe being vegetarian."
   ]
  },
  {
   "cell_type": "markdown",
   "metadata": {},
   "source": [
    "# Support Vector Machine Analysis"
   ]
  },
  {
   "cell_type": "code",
   "execution_count": 85,
   "metadata": {},
   "outputs": [
    {
     "name": "stdout",
     "output_type": "stream",
     "text": [
      "Prediction Matrix\n",
      "[[0.60973812 0.39026188]\n",
      " [0.73757601 0.26242399]\n",
      " [0.66765615 0.33234385]\n",
      " ...\n",
      " [0.77483604 0.22516396]\n",
      " [0.80531843 0.19468157]\n",
      " [0.81783104 0.18216896]]\n"
     ]
    }
   ],
   "source": [
    "svc = SVC(gamma=\"scale\",probability=True).fit(X_train, y_train)\n",
    "\n",
    "svc_predict = get_predict_proba(svc, X_train, X_test, y_train, y_test)\n",
    "\n",
    "print(\"Prediction Matrix\")\n",
    "print(svc_predict)"
   ]
  },
  {
   "cell_type": "markdown",
   "metadata": {},
   "source": [
    "Support Vector Machines is considered a \"black box\" algorithm, so in contrast to the logistic equation there is less interpretability especially with many features. There are no coefficients and unlike Random Forest and XGBoosting, we can't do a feature importance unless the kernel (used to help created the decision boundary between yes or no) is set to linear. However, RBF, the default kernel, since linear used too much computational power , and the RBF is generally considered the more accurate kernel if properly tuned. However we can predict the odds for each recipe of being vegeterian or not just like with logistic regression. So just like in logistic regression, we see that the [0.61100674, 0.38899326] is the yes and no odds for a recipe being vegetarian. "
   ]
  },
  {
   "cell_type": "markdown",
   "metadata": {},
   "source": [
    "# Random Forest Analysis"
   ]
  },
  {
   "cell_type": "code",
   "execution_count": 84,
   "metadata": {},
   "outputs": [
    {
     "name": "stdout",
     "output_type": "stream",
     "text": [
      "Calories    0.269901\n",
      "Sodium      0.259634\n",
      "Protein     0.239760\n",
      "Fat         0.159698\n",
      "Rating      0.071008\n",
      "dtype: float64\n",
      "Prediction Matrix\n",
      "[[0.65 0.35]\n",
      " [0.74 0.26]\n",
      " [0.28 0.72]\n",
      " ...\n",
      " [0.91 0.09]\n",
      " [1.   0.  ]\n",
      " [1.   0.  ]]\n"
     ]
    },
    {
     "data": {
      "image/png": "[encoded data removed]",
      "text/plain": [
       "<Figure size 432x288 with 1 Axes>"
      ]
     },
     "metadata": {},
     "output_type": "display_data"
    }
   ],
   "source": [
    "rf = RandomForestClassifier(n_estimators=100).fit(X_train, y_train) #puts the fitted random forest algorithm with 100 trees\n",
    "\n",
    "rf_important_features= rf.feature_importances_ #attribute that gets the value of the importance features\n",
    "\n",
    "rf_predict = get_predict_proba(rf, X_train, X_test, y_train, y_test) #gets the predicted probability of the random forest algorithm\n",
    "\n",
    "recipe_independent_variable_names = [\"Rating\", \"Calories\", \"Protein\", \"Fat\", \"Sodium\"] \n",
    "recipe_independent_variable_names_str = str(recipe_independent_variable_names) #Sets the string of the names of independent variables to attach to the feature importances\n",
    "\n",
    "rf_important_features_str=str(rf_important_features)\n",
    "rf_feature_imp = pd.Series(rf_important_features,index=recipe_independent_variable_names).sort_values(ascending=False)\n",
    "\n",
    "print(rf_feature_imp)\n",
    "\n",
    "print(\"Prediction Matrix\")\n",
    "print(rf_predict)\n",
    "\n",
    "sns.barplot(x=rf_feature_imp, y=rf_feature_imp.index) #plots the feature importances\n",
    "\n",
    "plt.xlabel('Feature Importance Score(%)')\n",
    "plt.ylabel('Features')\n",
    "plt.title(\"Random Forest\")\n",
    "plt.show()\n",
    "\n",
    "\n",
    "\n",
    "\n",
    "                                                                              "
   ]
  },
  {
   "cell_type": "markdown",
   "metadata": {},
   "source": [
    "There are no coefficients with Random Forest since it is not a regression. However we can see how important each feature is as a percentage when the decision trees make a decision. We see that calories, sodium, protein, and fat are much higher features that can affect the model if removed, and so has a huge effect on the results. "
   ]
  },
  {
   "cell_type": "markdown",
   "metadata": {},
   "source": [
    "# XGBoosting Analysis"
   ]
  },
  {
   "cell_type": "code",
   "execution_count": 81,
   "metadata": {},
   "outputs": [
    {
     "name": "stdout",
     "output_type": "stream",
     "text": [
      "Prediction Matrix\n",
      "[[0.47166926 0.52833074]\n",
      " [0.6897092  0.31029084]\n",
      " [0.5145334  0.48546657]\n",
      " ...\n",
      " [0.9179756  0.08202442]\n",
      " [0.9837418  0.01625819]\n",
      " [0.9891112  0.01088884]]\n"
     ]
    },
    {
     "data": {
      "text/plain": [
       "<matplotlib.axes._subplots.AxesSubplot at 0x25a80603780>"
      ]
     },
     "execution_count": 81,
     "metadata": {},
     "output_type": "execute_result"
    },
    {
     "data": {
      "image/png": "[encoded data removed]",
      "text/plain": [
       "<Figure size 432x288 with 1 Axes>"
      ]
     },
     "metadata": {},
     "output_type": "display_data"
    }
   ],
   "source": [
    "xgb = XGBClassifier().fit(X_train, y_train) #fits the XGBoosting Analysis\n",
    "\n",
    "xgb_important_features = xgb.feature_importances_ #finds feature importances\n",
    "\n",
    "xgb_pred = get_predict_proba(xgb, X_train, X_test, y_train, y_test) # find the prediction probabilities of yes and no\n",
    "\n",
    "print(\"Prediction Matrix\")\n",
    "print(xgb_pred)\n",
    "\n",
    "\n",
    "\n",
    "plot_importance(xgb, title = \"XGBoosting\") # plots the feature importance\n"
   ]
  },
  {
   "cell_type": "markdown",
   "metadata": {},
   "source": [
    "XGboosting is a gradient boosting method that uses multiple decision trees to make the classification prediction of whether a recipe is vegetarian or not. Using the built in plot function, we can see that the general features importances is similar to Random Forest. The f0,f1,f2,f3,f4 correspond to rating, calories, protein, fat, and sodium respectively. The relative importance of the features is the concern, so the difference in the X scale is not important. We can see that protein and calories are both important features and that calories is the most important feature. Rating is also the least important feature. There is a major difference in the importance of sodium, where XGboosting rated it 3rd best and tied with fat, while Random Forest rated it a close 2nd to Calories. \n",
    "\n"
   ]
  }
 ],
 "metadata": {
  "kernelspec": {
   "display_name": "Python 3",
   "language": "python",
   "name": "python3"
  },
  "language_info": {
   "codemirror_mode": {
    "name": "ipython",
    "version": 3
   },
   "file_extension": ".py",
   "mimetype": "text/x-python",
   "name": "python",
   "nbconvert_exporter": "python",
   "pygments_lexer": "ipython3",
   "version": "3.7.3"
  }
 },
 "nbformat": 4,
 "nbformat_minor": 2
}
